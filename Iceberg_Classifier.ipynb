{
  "nbformat": 4,
  "nbformat_minor": 0,
  "metadata": {
    "colab": {
      "name": "Iceberg_Classifier.ipynb",
      "provenance": [],
      "mount_file_id": "1Y1H45gizf3rhfiW9PmCmmjYVsc9k9UOk",
      "authorship_tag": "ABX9TyNGRVqLCCv66XIOG4O7IUUo"
    },
    "kernelspec": {
      "name": "python3",
      "display_name": "Python 3"
    },
    "language_info": {
      "name": "python"
    }
  },
  "cells": [
    {
      "cell_type": "code",
      "metadata": {
        "id": "VafXsOsgU6aG"
      },
      "source": [
        "import numpy as np\n",
        "import pandas as pd\n",
        "from sklearn.model_selection import train_test_split\n",
        "from os.path import join as opj\n",
        "from matplotlib import pyplot as plt\n",
        "from mpl_toolkits.mplot3d import Axes3D\n",
        "import pylab\n",
        "plt.rcParams['figure.figsize'] = 10, 10\n",
        "%matplotlib inline"
      ],
      "execution_count": 19,
      "outputs": []
    },
    {
      "cell_type": "code",
      "metadata": {
        "id": "tDm9IJCZVR98"
      },
      "source": [
        "#Load the data.\n",
        "train = pd.read_json(\"../train.json\")\n",
        "test = pd.read_json(\"../test.json\")"
      ],
      "execution_count": 21,
      "outputs": []
    },
    {
      "cell_type": "code",
      "metadata": {
        "id": "zPRMd10IXLVp"
      },
      "source": [
        "#Create 3 bands having HH, HV and avg of both\n",
        "X_band_1=np.array([np.array(band).astype(np.float32).reshape(75, 75) for band in train[\"band_1\"]])\n",
        "X_band_2=np.array([np.array(band).astype(np.float32).reshape(75, 75) for band in train[\"band_2\"]])\n",
        "X_train = np.concatenate([X_band_1[:, :, :, np.newaxis], X_band_2[:, :, :, np.newaxis],((X_band_1+X_band_2)/2)[:, :, :, np.newaxis]], axis=-1)"
      ],
      "execution_count": 22,
      "outputs": []
    },
    {
      "cell_type": "code",
      "metadata": {
        "id": "2GKAAvESX5Ti"
      },
      "source": [
        "#Take a look at a iceberg\n",
        "import plotly.offline as py\n",
        "import plotly.graph_objs as go\n",
        "py.init_notebook_mode(connected=True)\n",
        "def plotmy3d(c, name):\n",
        "\n",
        "    data = [\n",
        "        go.Surface(\n",
        "            z=c\n",
        "        )\n",
        "    ]\n",
        "    layout = go.Layout(\n",
        "        title=name,\n",
        "        autosize=False,\n",
        "        width=700,\n",
        "        height=700,\n",
        "        margin=dict(\n",
        "            l=65,\n",
        "            r=50,\n",
        "            b=65,\n",
        "            t=90\n",
        "        )\n",
        "    )\n",
        "    fig = go.Figure(data=data, layout=layout)\n",
        "    py.iplot(fig)\n",
        "plotmy3d(X_band_1[12,:,:], 'iceberg')"
      ],
      "execution_count": null,
      "outputs": []
    },
    {
      "cell_type": "code",
      "metadata": {
        "id": "WKNwVy-7Y8Mm"
      },
      "source": [
        "plotmy3d(X_band_1[14,:,:], 'Ship')"
      ],
      "execution_count": null,
      "outputs": []
    },
    {
      "cell_type": "markdown",
      "metadata": {
        "id": "M7CT7V0wZTKv"
      },
      "source": [
        "Build CNN with Keras!"
      ]
    },
    {
      "cell_type": "code",
      "metadata": {
        "id": "zjda87iOZN4h"
      },
      "source": [
        "from matplotlib import pyplot\n",
        "import tensorflow\n",
        "from keras.preprocessing.image import ImageDataGenerator\n",
        "from keras.models import Sequential\n",
        "from keras.layers import Conv2D, MaxPooling2D, Dense, Dropout, Input, Flatten, Activation\n",
        "from keras.layers import GlobalMaxPooling2D\n",
        "from keras.layers import BatchNormalization\n",
        "from keras.layers.merge import Concatenate\n",
        "from keras.models import Model\n",
        "from keras import initializers\n",
        "from tensorflow.keras.optimizers import Adam\n",
        "from keras.callbacks import ModelCheckpoint, Callback, EarlyStopping"
      ],
      "execution_count": 29,
      "outputs": []
    },
    {
      "cell_type": "code",
      "metadata": {
        "id": "cZ8Leh_2ZY0Q"
      },
      "source": [
        "def getModel():\n",
        "    #Building the model\n",
        "    gmodel=Sequential()\n",
        "    #Conv Layer 1\n",
        "    gmodel.add(Conv2D(64, kernel_size=(3, 3),activation='relu', input_shape=(75, 75, 3)))\n",
        "    gmodel.add(MaxPooling2D(pool_size=(3, 3), strides=(2, 2)))\n",
        "    gmodel.add(Dropout(0.2))\n",
        "\n",
        "    #Conv Layer 2\n",
        "    gmodel.add(Conv2D(128, kernel_size=(3, 3), activation='relu' ))\n",
        "    gmodel.add(MaxPooling2D(pool_size=(2, 2), strides=(2, 2)))\n",
        "    gmodel.add(Dropout(0.2))\n",
        "\n",
        "    #Conv Layer 3\n",
        "    gmodel.add(Conv2D(128, kernel_size=(3, 3), activation='relu'))\n",
        "    gmodel.add(MaxPooling2D(pool_size=(2, 2), strides=(2, 2)))\n",
        "    gmodel.add(Dropout(0.2))\n",
        "\n",
        "    #Conv Layer 4\n",
        "    gmodel.add(Conv2D(64, kernel_size=(3, 3), activation='relu'))\n",
        "    gmodel.add(MaxPooling2D(pool_size=(2, 2), strides=(2, 2)))\n",
        "    gmodel.add(Dropout(0.2))\n",
        "\n",
        "    #Flatten the data for upcoming dense layers\n",
        "    gmodel.add(Flatten())\n",
        "\n",
        "    #Dense Layers\n",
        "    gmodel.add(Dense(512))\n",
        "    gmodel.add(Activation('relu'))\n",
        "    gmodel.add(Dropout(0.2))\n",
        "\n",
        "    #Dense Layer 2\n",
        "    gmodel.add(Dense(256))\n",
        "    gmodel.add(Activation('relu'))\n",
        "    gmodel.add(Dropout(0.2))\n",
        "\n",
        "    #Sigmoid Layer\n",
        "    gmodel.add(Dense(1))\n",
        "    gmodel.add(Activation('sigmoid'))\n",
        "\n",
        "    mypotim=Adam(lr=0.001, beta_1=0.9, beta_2=0.999, epsilon=1e-08, decay=0.0)\n",
        "    gmodel.compile(loss='binary_crossentropy',\n",
        "                  optimizer=mypotim,\n",
        "                  metrics=['accuracy'])\n",
        "    gmodel.summary()\n",
        "    return gmodel\n",
        "\n",
        "\n",
        "def get_callbacks(filepath, patience=2):\n",
        "    es = EarlyStopping('val_loss', patience=patience, mode=\"min\")\n",
        "    msave = ModelCheckpoint(filepath, save_best_only=True)\n",
        "    return [es, msave]\n",
        "file_path = \".model_weights.hdf5\"\n",
        "callbacks = get_callbacks(filepath=file_path, patience=5)"
      ],
      "execution_count": 30,
      "outputs": []
    },
    {
      "cell_type": "code",
      "metadata": {
        "id": "a7VA0oZ4aAfL"
      },
      "source": [
        "target_train=train['is_iceberg']\n",
        "X_train_cv, X_valid, y_train_cv, y_valid = train_test_split(X_train, target_train, random_state=1, train_size=0.75)"
      ],
      "execution_count": 31,
      "outputs": []
    },
    {
      "cell_type": "code",
      "metadata": {
        "colab": {
          "base_uri": "https://localhost:8080/"
        },
        "id": "KCxfAQP3aE7j",
        "outputId": "185e8103-9599-4745-a9f1-dabb1711f3cb"
      },
      "source": [
        "#Without denoising, core features.\n",
        "import os\n",
        "gmodel=getModel()\n",
        "gmodel.fit(X_train_cv, y_train_cv,\n",
        "          batch_size=24,\n",
        "          epochs=50,\n",
        "          verbose=1,\n",
        "          validation_data=(X_valid, y_valid),\n",
        "          callbacks=callbacks)"
      ],
      "execution_count": 32,
      "outputs": [
        {
          "output_type": "stream",
          "name": "stderr",
          "text": [
            "/usr/local/lib/python3.7/dist-packages/keras/optimizer_v2/adam.py:105: UserWarning:\n",
            "\n",
            "The `lr` argument is deprecated, use `learning_rate` instead.\n",
            "\n"
          ]
        },
        {
          "output_type": "stream",
          "name": "stdout",
          "text": [
            "Model: \"sequential\"\n",
            "_________________________________________________________________\n",
            " Layer (type)                Output Shape              Param #   \n",
            "=================================================================\n",
            " conv2d (Conv2D)             (None, 73, 73, 64)        1792      \n",
            "                                                                 \n",
            " max_pooling2d (MaxPooling2D  (None, 36, 36, 64)       0         \n",
            " )                                                               \n",
            "                                                                 \n",
            " dropout (Dropout)           (None, 36, 36, 64)        0         \n",
            "                                                                 \n",
            " conv2d_1 (Conv2D)           (None, 34, 34, 128)       73856     \n",
            "                                                                 \n",
            " max_pooling2d_1 (MaxPooling  (None, 17, 17, 128)      0         \n",
            " 2D)                                                             \n",
            "                                                                 \n",
            " dropout_1 (Dropout)         (None, 17, 17, 128)       0         \n",
            "                                                                 \n",
            " conv2d_2 (Conv2D)           (None, 15, 15, 128)       147584    \n",
            "                                                                 \n",
            " max_pooling2d_2 (MaxPooling  (None, 7, 7, 128)        0         \n",
            " 2D)                                                             \n",
            "                                                                 \n",
            " dropout_2 (Dropout)         (None, 7, 7, 128)         0         \n",
            "                                                                 \n",
            " conv2d_3 (Conv2D)           (None, 5, 5, 64)          73792     \n",
            "                                                                 \n",
            " max_pooling2d_3 (MaxPooling  (None, 2, 2, 64)         0         \n",
            " 2D)                                                             \n",
            "                                                                 \n",
            " dropout_3 (Dropout)         (None, 2, 2, 64)          0         \n",
            "                                                                 \n",
            " flatten (Flatten)           (None, 256)               0         \n",
            "                                                                 \n",
            " dense (Dense)               (None, 512)               131584    \n",
            "                                                                 \n",
            " activation (Activation)     (None, 512)               0         \n",
            "                                                                 \n",
            " dropout_4 (Dropout)         (None, 512)               0         \n",
            "                                                                 \n",
            " dense_1 (Dense)             (None, 256)               131328    \n",
            "                                                                 \n",
            " activation_1 (Activation)   (None, 256)               0         \n",
            "                                                                 \n",
            " dropout_5 (Dropout)         (None, 256)               0         \n",
            "                                                                 \n",
            " dense_2 (Dense)             (None, 1)                 257       \n",
            "                                                                 \n",
            " activation_2 (Activation)   (None, 1)                 0         \n",
            "                                                                 \n",
            "=================================================================\n",
            "Total params: 560,193\n",
            "Trainable params: 560,193\n",
            "Non-trainable params: 0\n",
            "_________________________________________________________________\n",
            "Epoch 1/50\n",
            "51/51 [==============================] - 38s 707ms/step - loss: 0.9271 - accuracy: 0.5029 - val_loss: 0.6731 - val_accuracy: 0.5312\n",
            "Epoch 2/50\n",
            "51/51 [==============================] - 35s 691ms/step - loss: 0.6037 - accuracy: 0.5927 - val_loss: 0.5638 - val_accuracy: 0.6833\n",
            "Epoch 3/50\n",
            "51/51 [==============================] - 35s 693ms/step - loss: 0.5422 - accuracy: 0.6924 - val_loss: 0.5134 - val_accuracy: 0.7232\n",
            "Epoch 4/50\n",
            "51/51 [==============================] - 35s 692ms/step - loss: 0.5227 - accuracy: 0.7124 - val_loss: 0.5258 - val_accuracy: 0.6983\n",
            "Epoch 5/50\n",
            "51/51 [==============================] - 35s 695ms/step - loss: 0.5198 - accuracy: 0.7057 - val_loss: 0.5064 - val_accuracy: 0.7282\n",
            "Epoch 6/50\n",
            "51/51 [==============================] - 35s 690ms/step - loss: 0.5049 - accuracy: 0.7382 - val_loss: 0.4481 - val_accuracy: 0.7980\n",
            "Epoch 7/50\n",
            "51/51 [==============================] - 36s 702ms/step - loss: 0.5678 - accuracy: 0.6874 - val_loss: 0.4993 - val_accuracy: 0.7456\n",
            "Epoch 8/50\n",
            "51/51 [==============================] - 35s 684ms/step - loss: 0.4945 - accuracy: 0.7473 - val_loss: 0.4535 - val_accuracy: 0.7756\n",
            "Epoch 9/50\n",
            "51/51 [==============================] - 34s 668ms/step - loss: 0.4800 - accuracy: 0.7456 - val_loss: 0.5188 - val_accuracy: 0.7332\n",
            "Epoch 10/50\n",
            "51/51 [==============================] - 34s 667ms/step - loss: 0.4506 - accuracy: 0.7747 - val_loss: 0.4137 - val_accuracy: 0.8180\n",
            "Epoch 11/50\n",
            "51/51 [==============================] - 34s 674ms/step - loss: 0.4277 - accuracy: 0.7938 - val_loss: 0.3836 - val_accuracy: 0.8229\n",
            "Epoch 12/50\n",
            "51/51 [==============================] - 34s 663ms/step - loss: 0.4154 - accuracy: 0.7980 - val_loss: 0.3563 - val_accuracy: 0.8529\n",
            "Epoch 13/50\n",
            "51/51 [==============================] - 34s 664ms/step - loss: 0.4014 - accuracy: 0.8138 - val_loss: 0.4569 - val_accuracy: 0.7855\n",
            "Epoch 14/50\n",
            "51/51 [==============================] - 33s 646ms/step - loss: 0.4385 - accuracy: 0.7922 - val_loss: 0.3853 - val_accuracy: 0.8279\n",
            "Epoch 15/50\n",
            "51/51 [==============================] - 33s 657ms/step - loss: 0.3990 - accuracy: 0.7930 - val_loss: 0.4383 - val_accuracy: 0.8155\n",
            "Epoch 16/50\n",
            "51/51 [==============================] - 33s 651ms/step - loss: 0.4464 - accuracy: 0.7922 - val_loss: 0.4175 - val_accuracy: 0.8155\n",
            "Epoch 17/50\n",
            "51/51 [==============================] - 33s 642ms/step - loss: 0.3934 - accuracy: 0.8146 - val_loss: 0.3782 - val_accuracy: 0.8229\n"
          ]
        },
        {
          "output_type": "execute_result",
          "data": {
            "text/plain": [
              "<keras.callbacks.History at 0x7fb8641f2090>"
            ]
          },
          "metadata": {},
          "execution_count": 32
        }
      ]
    },
    {
      "cell_type": "code",
      "metadata": {
        "colab": {
          "base_uri": "https://localhost:8080/"
        },
        "id": "6SvtyfaWciP0",
        "outputId": "4acd96f5-8f02-400a-93dd-07c5e6ebf477"
      },
      "source": [
        "gmodel.load_weights(filepath=file_path)\n",
        "score = gmodel.evaluate(X_valid, y_valid, verbose=1)\n",
        "print('Test loss:', score[0])\n",
        "print('Test accuracy:', score[1])"
      ],
      "execution_count": 33,
      "outputs": [
        {
          "output_type": "stream",
          "name": "stdout",
          "text": [
            "13/13 [==============================] - 2s 175ms/step - loss: 0.3563 - accuracy: 0.8529\n",
            "Test loss: 0.35628342628479004\n",
            "Test accuracy: 0.852867841720581\n"
          ]
        }
      ]
    },
    {
      "cell_type": "code",
      "metadata": {
        "id": "oZKFs1PoclHa"
      },
      "source": [
        "X_band_test_1=np.array([np.array(band).astype(np.float32).reshape(75, 75) for band in test[\"band_1\"]])\n",
        "X_band_test_2=np.array([np.array(band).astype(np.float32).reshape(75, 75) for band in test[\"band_2\"]])\n",
        "X_test = np.concatenate([X_band_test_1[:, :, :, np.newaxis]\n",
        "                          , X_band_test_2[:, :, :, np.newaxis]\n",
        "                         , ((X_band_test_1+X_band_test_2)/2)[:, :, :, np.newaxis]], axis=-1)\n",
        "predicted_test=gmodel.predict(X_test)"
      ],
      "execution_count": 36,
      "outputs": []
    }
  ]
}